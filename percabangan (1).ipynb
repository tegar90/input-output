{
 "cells": [
  {
   "cell_type": "code",
   "execution_count": 1,
   "id": "72c350e9",
   "metadata": {},
   "outputs": [
    {
     "name": "stdout",
     "output_type": "stream",
     "text": [
      "isikan bilangan4\n",
      "4 adalah bilangan genap\n"
     ]
    }
   ],
   "source": [
    "nilai = int(input('isikan bilangan'))\n",
    "sisa_bagi = nilai % 2\n",
    "\n",
    "if sisa_bagi ==0:\n",
    "    print(nilai,\"adalah bilangan genap\")\n",
    "else:\n",
    "    print(f\"{nilai} adalah bilangan ganjil\")    "
   ]
  },
  {
   "cell_type": "code",
   "execution_count": 2,
   "id": "1c1f0a93",
   "metadata": {},
   "outputs": [
    {
     "ename": "IndentationError",
     "evalue": "expected an indented block (4140511650.py, line 2)",
     "output_type": "error",
     "traceback": [
      "\u001b[1;36m  Input \u001b[1;32mIn [2]\u001b[1;36m\u001b[0m\n\u001b[1;33m    <tab>statment 1\u001b[0m\n\u001b[1;37m    ^\u001b[0m\n\u001b[1;31mIndentationError\u001b[0m\u001b[1;31m:\u001b[0m expected an indented block\n"
     ]
    }
   ],
   "source": [
    "if kondisi_1:\n",
    "<tab>statment 1\n",
    "elif kondisi_2:\n",
    "<tab>statment 2\n",
    "else:\n",
    "<tab>statment_3\n"
   ]
  },
  {
   "cell_type": "code",
   "execution_count": 1,
   "id": "3a6b52e0",
   "metadata": {},
   "outputs": [
    {
     "name": "stdout",
     "output_type": "stream",
     "text": [
      "isikan nilai pemrograman mahasiswa:90\n",
      "isikan nilai pemrograman mahasiswa:321\n",
      "nilai pemrograman mahasiswa : \n"
     ]
    }
   ],
   "source": [
    "# 0 - 49 => E\n",
    "#50 - 59 => D\n",
    "#60 - 69 => C\n",
    "#70 - 84 => B\n",
    "#85 - 100 => A\n",
    "\n",
    "nilai_mhs = int(input('isikan nilai pemrograman mahasiswa:'))\n",
    "keterangan=\"\"\n",
    "if nilai_mhs >=0 and nilai_mhs < 50:\n",
    "    keterangan = \"E\"\n",
    "elif nilai_mhs >=50 and nilai_mhs <60:\n",
    "    keterangan = \"D\"\n"
   ]
  },
  {
   "cell_type": "code",
   "execution_count": 7,
   "id": "3b93bc40",
   "metadata": {},
   "outputs": [
    {
     "name": "stdout",
     "output_type": "stream",
     "text": [
      "isikan nilai pemrograman mahasiswa:tegar maualan putra\n"
     ]
    },
    {
     "ename": "ValueError",
     "evalue": "invalid literal for int() with base 10: 'tegar maualan putra'",
     "output_type": "error",
     "traceback": [
      "\u001b[1;31m---------------------------------------------------------------------------\u001b[0m",
      "\u001b[1;31mValueError\u001b[0m                                Traceback (most recent call last)",
      "Input \u001b[1;32mIn [7]\u001b[0m, in \u001b[0;36m<cell line: 7>\u001b[1;34m()\u001b[0m\n\u001b[0;32m      1\u001b[0m \u001b[38;5;66;03m# 0 - 49 => E\u001b[39;00m\n\u001b[0;32m      2\u001b[0m \u001b[38;5;66;03m#50 - 59 => D\u001b[39;00m\n\u001b[0;32m      3\u001b[0m \u001b[38;5;66;03m#60 - 69 => C\u001b[39;00m\n\u001b[0;32m      4\u001b[0m \u001b[38;5;66;03m#70 - 84 => B\u001b[39;00m\n\u001b[0;32m      5\u001b[0m \u001b[38;5;66;03m#85 - 100 => A\u001b[39;00m\n\u001b[1;32m----> 7\u001b[0m nilai_mhs \u001b[38;5;241m=\u001b[39m \u001b[38;5;28;43mint\u001b[39;49m\u001b[43m(\u001b[49m\u001b[38;5;28;43minput\u001b[39;49m\u001b[43m(\u001b[49m\u001b[38;5;124;43m'\u001b[39;49m\u001b[38;5;124;43misikan nilai pemrograman mahasiswa:\u001b[39;49m\u001b[38;5;124;43m'\u001b[39;49m\u001b[43m)\u001b[49m\u001b[43m)\u001b[49m\n\u001b[0;32m      8\u001b[0m keterangan\u001b[38;5;241m=\u001b[39m\u001b[38;5;124m\"\u001b[39m\u001b[38;5;124m\"\u001b[39m\n\u001b[0;32m      9\u001b[0m \u001b[38;5;28;01mif\u001b[39;00m nilai_mhs \u001b[38;5;241m>\u001b[39m\u001b[38;5;241m=\u001b[39m\u001b[38;5;241m0\u001b[39m \u001b[38;5;129;01mand\u001b[39;00m nilai_mhs \u001b[38;5;241m<\u001b[39m\u001b[38;5;241m50\u001b[39m:\n",
      "\u001b[1;31mValueError\u001b[0m: invalid literal for int() with base 10: 'tegar maualan putra'"
     ]
    }
   ],
   "source": [
    "# 0 - 49 => E\n",
    "#50 - 59 => D\n",
    "#60 - 69 => C\n",
    "#70 - 84 => B\n",
    "#85 - 100 => A\n",
    "\n",
    "nilai_mhs = int(input('isikan nilai pemrograman mahasiswa:'))\n",
    "keterangan=\"\"\n",
    "if nilai_mhs >=0 and nilai_mhs <50:\n",
    "    keterangan = \"E\"\n",
    "elif nilai_mhs >=50 and nilai_mhs <60:\n",
    "    keterangan = \"D\"\n",
    "elif nilai_mhs >=60 and nilai_mhs <70:\n",
    "    keterangan = \"C\"   \n",
    "elif nilai_mhs >=70 and nilai_mhs <85:\n",
    "    keterangan = \"B\"        \n",
    "elif nilai_mhs >=85 and nilai_mhs <101:\n",
    "    keterangan = \"A\"    \n",
    "print(\"nilai pemrograman mahasiswa :\", keterangan)    "
   ]
  },
  {
   "cell_type": "code",
   "execution_count": null,
   "id": "d85bc4dd",
   "metadata": {},
   "outputs": [],
   "source": []
  },
  {
   "cell_type": "code",
   "execution_count": null,
   "id": "7a4d1fa0",
   "metadata": {},
   "outputs": [],
   "source": []
  }
 ],
 "metadata": {
  "kernelspec": {
   "display_name": "Python 3 (ipykernel)",
   "language": "python",
   "name": "python3"
  },
  "language_info": {
   "codemirror_mode": {
    "name": "ipython",
    "version": 3
   },
   "file_extension": ".py",
   "mimetype": "text/x-python",
   "name": "python",
   "nbconvert_exporter": "python",
   "pygments_lexer": "ipython3",
   "version": "3.9.12"
  }
 },
 "nbformat": 4,
 "nbformat_minor": 5
}
