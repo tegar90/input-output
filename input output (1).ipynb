{
 "cells": [
  {
   "cell_type": "code",
   "execution_count": 1,
   "id": "b10065e0",
   "metadata": {},
   "outputs": [
    {
     "name": "stdout",
     "output_type": "stream",
     "text": [
      "Isikan nama awalFASFA\n",
      "Isikan Nama tengahSAF\n",
      "Isikan nama akhirSAF\n",
      "selamat datang FASFA SAF SAF S.kom\n"
     ]
    }
   ],
   "source": [
    "fname = input('Isikan nama awal')\n",
    "mname = input('Isikan Nama tengah')\n",
    "lname = input('Isikan nama akhir')\n",
    "\n",
    "print('selamat datang',fname,mname,lname,\"S.kom\")"
   ]
  },
  {
   "cell_type": "code",
   "execution_count": 2,
   "id": "5a65be09",
   "metadata": {},
   "outputs": [
    {
     "name": "stdout",
     "output_type": "stream",
     "text": [
      "isikan panjang persegi:123\n",
      "isikan lebar persegi:12521\n",
      "luas persegi panjang 1540083\n",
      "keliling persegi panjang 25288\n"
     ]
    }
   ],
   "source": [
    "#Luas => p * l\n",
    "#keliling = 2 *  (p+l)\n",
    "\n",
    "p = input('isikan panjang persegi:')\n",
    "l = input('isikan lebar persegi:')\n",
    "\n",
    "\n",
    "\n",
    "luas = int(p) * int(l)\n",
    "keliling = 2 * (int(p) + int(l))\n",
    "\n",
    "print('luas persegi panjang',luas)\n",
    "print('keliling persegi panjang',keliling)"
   ]
  },
  {
   "cell_type": "code",
   "execution_count": null,
   "id": "74431900",
   "metadata": {},
   "outputs": [],
   "source": [
    "bill1 = input('isikan bilangan 1:')\n",
    "bill2 = input('isikan bilangan 2:')\n",
    "print(type(bill1))\n",
    "hasil = int(bill1) + int(bill2)\n",
    "print('hasil penjumlahan', hasil)"
   ]
  },
  {
   "cell_type": "code",
   "execution_count": null,
   "id": "977fc5b2",
   "metadata": {},
   "outputs": [],
   "source": [
    "print(\"senin\",\"selasa\",\"rabu\",\"kamis\",\"jumat\",\"sabtu\",\"minggu\",sep=\"@\",end=\"<_>\")\n",
    "print(\"one\",\"two\",\"three\",\"four\",\"five\",sep=\"\\n\")"
   ]
  },
  {
   "cell_type": "code",
   "execution_count": null,
   "id": "908330ea",
   "metadata": {},
   "outputs": [],
   "source": [
    "number1 = 7\n",
    "number2 = 15\n",
    "\n",
    "# hasil perkalian 7 dengan 15 adalah 105\n",
    "print(\"perkalian {} dengan {} adalah {}\". format(number1,number2,number1 * number2))"
   ]
  },
  {
   "cell_type": "code",
   "execution_count": null,
   "id": "9d518bf6",
   "metadata": {},
   "outputs": [],
   "source": [
    "first_name = \"A\"\n",
    "middle_name = \"B\"\n",
    "last_name = \"C\"\n",
    "\n",
    "print(\"urutan huruf {2}{1}{0}\". format(first_name,middle_name,last_name))\n"
   ]
  },
  {
   "cell_type": "code",
   "execution_count": null,
   "id": "0d4734ad",
   "metadata": {},
   "outputs": [],
   "source": [
    "# sekarang tanggal 20 bulan maret tahun 2024\n",
    "print(\"sekarang tanggal {tanggal} bulan {bulan} tahun {tahun}\". format(tanggal = 20,bulan = \"maret\",tahun = 2024))"
   ]
  },
  {
   "cell_type": "code",
   "execution_count": null,
   "id": "4b168e18",
   "metadata": {},
   "outputs": [],
   "source": [
    "kampus = \"universitas nusa putra\"\n",
    "print(\"huruf pertama adalah:\",kampus[0])\n",
    "print(\"huruf terakhir adalah:\",kampus[-1])\n",
    "print(\"huruf range 0-10:\",kampus[0:120120120120120120120120120120120120120120120120120120120120120120120120120120120120120])\n",
    "print(kampus[-5:])\n",
    "print(kampus[12:])\n",
    "#reverse string\n",
    "print(kampus[::-1])"
   ]
  },
  {
   "cell_type": "code",
   "execution_count": null,
   "id": "5ebae57c",
   "metadata": {},
   "outputs": [],
   "source": [
    "# split => string -> list\n",
    "kota = \"Jakarta Sukabumi Malang Bandung Surabaya\"\n",
    "list_kota = kota.split()\n",
    "print(list_kota)\n",
    "print(list_kota[0])\n",
    "#join => list => string\n",
    "join_kota = \"@\".join(list_kota)\n",
    "print(join_kota)"
   ]
  },
  {
   "cell_type": "code",
   "execution_count": 16,
   "id": "d5eab238",
   "metadata": {},
   "outputs": [
    {
     "name": "stdout",
     "output_type": "stream",
     "text": [
      "isikan nama andategar maualana putra\n",
      "isikan tanggal lahir29/05/2005\n",
      "Nama Awal: tegar\n",
      "Nama Akhir: maualana\n",
      "bulan lahir: Mei\n",
      "tanggal lahir: 29\n",
      "tahun lahir: 2005\n",
      "nama inisial: tm\n"
     ]
    }
   ],
   "source": [
    "# isikan nama anda : bill gates\n",
    "# isikan tanggal lahir : 18/12/2022\n",
    "# output :\n",
    "# nama awal : bill gates\n",
    "# tanggal lahir : 18\n",
    "# bulan lahir : 12\n",
    "# tahun lahir : 2022\n",
    "# nama inisial : BG\n",
    "\n",
    "nama = input('isikan nama anda')\n",
    "tanggal = input('isikan tanggal lahir')\n",
    "\n",
    "list_nama = (nama.split())\n",
    "print(\"Nama Awal:\",list_nama[0])\n",
    "print(\"Nama Akhir:\",list_nama[1])\n",
    "\n",
    "list_tanggal = tanggal.split(\"/\")\n",
    "if list_tanggal[1]==\"01\":\n",
    "    keterangan = \"Januari\"\n",
    "elif list_tanggal[1]==\"02\":\n",
    "    keterangan = \"Februari\"\n",
    "elif list_tanggal[1]==\"03\":\n",
    "    keterangan = \"Maret\"\n",
    "elif list_tanggal[1]==\"04\":\n",
    "    keterangan = \"April\"\n",
    "elif list_tanggal[1]==\"05\":\n",
    "    keterangan = \"Mei\"\n",
    "elif list_tanggal[1]==\"06\":\n",
    "    keterangan = \"Juni\"\n",
    "elif list_tanggal[1]==\"07\":\n",
    "    keterangan = \"Juli\"\n",
    "elif list_tanggal[1]==\"08\":\n",
    "    keterangan = \"Agustus\"\n",
    "elif list_tanggal[1]==\"09\":\n",
    "    Keterangan = \"September\"\n",
    "elif list_tanggal[1]==\"10\":\n",
    "    Keterangan =\"Oktober\"\n",
    "elif list_tanggal[1]==\"11\":\n",
    "    Keterangan =\"November\"\n",
    "elif list_tanggal[1]==\"12\":\n",
    "    Keterangan =\"Desember\"\n",
    "\n",
    "print(\"bulan lahir:\", keterangan)\n",
    "print(\"tanggal lahir:\", list_tanggal[0])\n",
    "print(\"tahun lahir:\", list_tanggal[2])\n",
    "\n",
    "inisial = list_nama[0][0] + list_nama[1][0]\n",
    "print(\"nama inisial:\", inisial)"
   ]
  },
  {
   "cell_type": "code",
   "execution_count": null,
   "id": "ea137ed3",
   "metadata": {},
   "outputs": [],
   "source": []
  },
  {
   "cell_type": "code",
   "execution_count": null,
   "id": "3f31f94a",
   "metadata": {},
   "outputs": [],
   "source": []
  },
  {
   "cell_type": "code",
   "execution_count": null,
   "id": "99037c06",
   "metadata": {},
   "outputs": [],
   "source": []
  },
  {
   "cell_type": "code",
   "execution_count": null,
   "id": "14efa0e8",
   "metadata": {},
   "outputs": [],
   "source": []
  },
  {
   "cell_type": "code",
   "execution_count": null,
   "id": "ccc51864",
   "metadata": {},
   "outputs": [],
   "source": []
  }
 ],
 "metadata": {
  "kernelspec": {
   "display_name": "Python 3 (ipykernel)",
   "language": "python",
   "name": "python3"
  },
  "language_info": {
   "codemirror_mode": {
    "name": "ipython",
    "version": 3
   },
   "file_extension": ".py",
   "mimetype": "text/x-python",
   "name": "python",
   "nbconvert_exporter": "python",
   "pygments_lexer": "ipython3",
   "version": "3.9.12"
  }
 },
 "nbformat": 4,
 "nbformat_minor": 5
}
